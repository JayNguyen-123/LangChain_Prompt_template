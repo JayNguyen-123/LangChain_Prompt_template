{
  "nbformat": 4,
  "nbformat_minor": 0,
  "metadata": {
    "colab": {
      "provenance": [],
      "authorship_tag": "ABX9TyNwAekMceEkglV5g9lhEf+M",
      "include_colab_link": true
    },
    "kernelspec": {
      "name": "python3",
      "display_name": "Python 3"
    },
    "language_info": {
      "name": "python"
    }
  },
  "cells": [
    {
      "cell_type": "markdown",
      "metadata": {
        "id": "view-in-github",
        "colab_type": "text"
      },
      "source": [
        "<a href=\"https://colab.research.google.com/github/JayNguyen-123/LangChain_Prompt_template/blob/main/LangChainPromptTemplate.ipynb\" target=\"_parent\"><img src=\"https://colab.research.google.com/assets/colab-badge.svg\" alt=\"Open In Colab\"/></a>"
      ]
    },
    {
      "cell_type": "markdown",
      "source": [
        "### Prompts in LangChain\n",
        "- A prompt is the text input that we pass to an LLM application. A prompt can have one or more elements from the following:\n",
        "> Context: We use contexts in prompts to provide external information to the LLM application. For instance, if we want the LLM application to analyze a text and give answers based on the information in the text, we can provide the text as context to the LLM application.\n",
        "> Query: The text input we pass to the LLM application to get an answer is a query. The query asks a specific question to the LLM application.\n",
        "> Instruction: Instructions instruct the LLM application on how to use the context, format the output, and process the query. For example, if we are giving a context and the query cannot be answered using the information in the context, you can instruct the LLM application to give a specific answer."
      ],
      "metadata": {
        "id": "u49NyOoAauZN"
      }
    },
    {
      "cell_type": "code",
      "execution_count": null,
      "metadata": {
        "id": "wuTbO_2zajIB"
      },
      "outputs": [],
      "source": [
        "from langchain_google_genai import ChatGoogleGenerativeAI\n",
        "import os\n",
        "\n",
        "# Specify Google API key\n",
        "os.environ['GOOGLE_API_KEY'] = \"your_API_key\"\n",
        "\n",
        "# Initialize an LLM application\n",
        "llm = ChatGoogleGenerativeAI(model = \"gemini-pro\")\n",
        "\n",
        "# Generate results using the LLM application\n",
        "result = llm.invoke(\"Suggest one name for a restaurant in England that serves Indian food.\")\n",
        "\n",
        "print(result.content)\n"
      ]
    },
    {
      "cell_type": "code",
      "source": [
        "from langchain_google_genai import ChatGoogleGenerativeAI\n",
        "import os\n",
        "\n",
        "# Specify Google API key\n",
        "os.environ['GOOGLE_API_KEY'] = \"your_API_key\"\n",
        "\n",
        "# Initialize an LLM application\n",
        "llm = ChatGoogleGenerativeAI(model = \"gemini-pro\")\n",
        "\n",
        "# Create a prompt with query, context, and instruction\n",
        "prompt = \"\"\"\n",
        "Instruction: Answer the question based on the context below. If you cannot answer the question with the given context, answer with \"I don't know.\".\n",
        "Context: YouTube is an interactive online learning platform offering courses in various programming languages and tech skills. It provides a hands-on, project-based approach to learning, allowing users to write and execute code directly in the browser. The platform covers topics such as web development, data science, computer science, and machine learning. Codecademy features a mix of free and paid content, with the Pro membership granting access to advanced courses, quizzes, and real-world projects. The site also includes community forums, career advice, and a personalized learning path to help users achieve their specific goals.\n",
        "Query: Is YouTube an online learning platform?\n",
        "\"\"\"\n",
        "# Generate results using the LLM application\n",
        "result = llm.invoke(prompt)\n",
        "\n",
        "print(result.content)\n"
      ],
      "metadata": {
        "id": "wRQK_KfFbFZu"
      },
      "execution_count": null,
      "outputs": []
    },
    {
      "cell_type": "code",
      "source": [
        "from langchain_google_genai import ChatGoogleGenerativeAI\n",
        "import os\n",
        "\n",
        "# Specify Google API key\n",
        "os.environ['GOOGLE_API_KEY'] = \"your_API_key\"\n",
        "\n",
        "# Initialize an LLM application\n",
        "llm = ChatGoogleGenerativeAI(model=\"gemini-pro\")\n",
        "\n",
        "# Create a prompt with query, context, and instruction\n",
        "prompt = \"\"\"\n",
        "Instruction: Answer the question based on the context below. If you cannot answer the question with the given context, answer with \"I don't know.\".\n",
        "Context: Codecademy is an interactive online learning platform offering courses in various programming languages and tech skills. It provides a hands-on, project-based approach to learning, allowing users to write and execute code directly in the browser. The platform covers topics such as web development, data science, computer science, and machine learning. Codecademy features a mix of free and paid content, with the Pro membership granting access to advanced courses, quizzes, and real-world projects. The site also includes community forums, career advice, and a personalized learning path to help users achieve their specific goals.\n",
        "Query: How many users does Codecademy have?\n",
        "\"\"\"\n",
        "\n",
        "# Generate results using the LLM application\n",
        "result = llm.invoke(prompt)\n",
        "\n",
        "print(result.content)\n"
      ],
      "metadata": {
        "id": "Zf154JsXb3t_"
      },
      "execution_count": null,
      "outputs": []
    },
    {
      "cell_type": "markdown",
      "source": [
        "### Prompt Template\n",
        "- A prompt template is a reproducible way to generate prompts. It allows us to create prompts based on existing statements that have placeholders for queries or field names.\n",
        "Examples:\n",
        "- prompt = \"\"\"\n",
        "Instruction: Answer the question based on the context below. If you cannot answer the question with the given context, answer with \"I don't know.\".\n",
        "Context: YouTube is an interactive online learning platform offering courses in various programming languages and tech skills. It provides a hands-on, project-based approach to learning, allowing users to write and execute code directly in the browser. The platform covers topics such as web development, data science, computer science, and machine learning. YouTube features of free content. The site also includes community forums, career advice, and a personalized learning path to help users achieve their specific goals.\n",
        "Query: How many users does YouTube have?\n",
        "\"\"\""
      ],
      "metadata": {
        "id": "YkLRhaqncJLn"
      }
    },
    {
      "cell_type": "code",
      "source": [
        "# Generate Prompt Templates Using the from_template() Function\n",
        "\n",
        "from langchain_core.prompts import PromptTemplate\n",
        "from langchain_google_genai import ChatGoogleGenerativeAI\n",
        "import os\n",
        "\n",
        "# Specify Google API key\n",
        "os.environ['GOOGLE_API_KEY'] = \"your_API_key\"\n",
        "\n",
        "# Initialize an LLM application\n",
        "llm = ChatGoogleGenerativeAI(model=\"gemini-pro\")\n",
        "\n",
        "# Create a prompt template\n",
        "prompt_template = PromptTemplate.from_template(template=\"Suggest one name for a restaurant in {country} that serves {cuisine} food.\")\n",
        "\n",
        "# Create a prompt using the prompt template\n",
        "prompt = prompt_template.format(cuisine=\"Mexican\", country=\"USA\")\n",
        "print(\"The prompt is:\",prompt)\n",
        "\n",
        "# Generate results using the LLM application\n",
        "result = llm.invoke(prompt)\n",
        "print(\"The output is:\",result.content)\n"
      ],
      "metadata": {
        "id": "TjI0xRBBcpm5"
      },
      "execution_count": null,
      "outputs": []
    },
    {
      "cell_type": "code",
      "source": [],
      "metadata": {
        "id": "WLJJc4aHcHy-"
      },
      "execution_count": null,
      "outputs": []
    }
  ]
}